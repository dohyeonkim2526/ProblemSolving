{
 "cells": [
  {
   "cell_type": "markdown",
   "id": "reverse-romantic",
   "metadata": {},
   "source": [
    "### 이진 탐색 - ex1. 부품찾기\n",
    "* 지난 시간에 아래 문제에 대해서 이진 탐색으로 풀이를 했었다.\n",
    "* 이번에는 계수 정렬과 집합 자료형을 이용해서 풀어보기."
   ]
  },
  {
   "cell_type": "markdown",
   "id": "egyptian-integer",
   "metadata": {},
   "source": [
    "### 문제\n",
    "\n",
    "현재 일하고 있는 전자 매장에선 N개의 부품을 가지고 있다. 이 때, 한 손님이 M개의 부품의 견적서를 요청하였을 때에 부품이 있으면 yes, 없으면 no를 출력하여라.\n",
    "\n",
    "(단, 손님이 요청한 부품 번호의 순서대로 부품을 확인해야 한다.)\n",
    "\n",
    "* 1 <= N <= 1,000,000\n",
    "* 1 <= M <= 100,000"
   ]
  },
  {
   "cell_type": "markdown",
   "id": "naughty-swaziland",
   "metadata": {},
   "source": [
    "### 방법1) 계수 정렬\n",
    "* 가장 큰 데이터와 작은 데이터가 모두 담길 수 있는 리스트 생성\n",
    "* 각 부품의 번호에 대해 리스트 원소를 1로 설정하고, 비교하면서 판단한다."
   ]
  },
  {
   "cell_type": "code",
   "execution_count": 7,
   "id": "honest-inspiration",
   "metadata": {},
   "outputs": [
    {
     "name": "stdout",
     "output_type": "stream",
     "text": [
      "5\n",
      "8 3 7 9 2\n",
      "3\n",
      "5 7 9\n",
      "no yes yes "
     ]
    }
   ],
   "source": [
    "# 매장의 부품 5개(8,3,7,9,2)\n",
    "# 부품 견적서 3개(5 7 9)\n",
    "\n",
    "n = int(input())\n",
    "arr = [0] * 1000001\n",
    "\n",
    "for i in input().split():\n",
    "    arr[int(i)] = 1\n",
    "    \n",
    "m = int(input())\n",
    "\n",
    "for j in input().split():\n",
    "    if arr[int(j)] == 1:\n",
    "        print('yes', end = ' ')\n",
    "        \n",
    "    else:\n",
    "        print('no', end = ' ')"
   ]
  },
  {
   "cell_type": "code",
   "execution_count": null,
   "id": "geographic-school",
   "metadata": {},
   "outputs": [],
   "source": []
  },
  {
   "cell_type": "markdown",
   "id": "enormous-facial",
   "metadata": {},
   "source": [
    "### 방법2) 집합 자료형\n",
    "* 집합 자료형(set): **중복과 순서가 없는** 자료형이어서, 인덱싱 기능을 사용하지 못한다."
   ]
  },
  {
   "cell_type": "code",
   "execution_count": null,
   "id": "assumed-williams",
   "metadata": {},
   "outputs": [],
   "source": [
    "'''\n",
    "\n",
    "s1 = set([1,2,3,4,5])\n",
    "s2 = set([3,4,5,6,7])\n",
    "\n",
    "\n",
    "1. 교집합\n",
    "* s1 & s2\n",
    "* s1.intersection(s2)\n",
    "\n",
    "2. 합집합\n",
    "* s1 | s2\n",
    "* s1.union(s2)\n",
    "\n",
    "3. 차집합\n",
    "* s1 - s2\n",
    "* s1.difference(s2)\n",
    "\n",
    "\n",
    "________________________________________________________\n",
    "\n",
    "s1.add(10) ... 집합에 1개의 값 추가\n",
    "s1.update([10,11,12]) ... 여러 개의 값 추가 \n",
    "s1.remove(3) ... 특정 값 삭제\n",
    "\n",
    "\n",
    "'''"
   ]
  },
  {
   "cell_type": "code",
   "execution_count": 9,
   "id": "eligible-twins",
   "metadata": {},
   "outputs": [
    {
     "name": "stdout",
     "output_type": "stream",
     "text": [
      "5\n",
      "8 3 7 9 2\n",
      "3\n",
      "5 7 9\n",
      "no yes yes "
     ]
    }
   ],
   "source": [
    "n = int(input())\n",
    "arr = set(map(int, input().split()))\n",
    "\n",
    "m = int(input())\n",
    "customers = list(map(int, input().split()))\n",
    "\n",
    "for c in customers:\n",
    "    if c in arr:\n",
    "        print('yes', end = ' ')\n",
    "        \n",
    "    else:\n",
    "        print('no', end = ' ')"
   ]
  },
  {
   "cell_type": "code",
   "execution_count": null,
   "id": "floating-liabilities",
   "metadata": {},
   "outputs": [],
   "source": []
  }
 ],
 "metadata": {
  "kernelspec": {
   "display_name": "Python 3",
   "language": "python",
   "name": "python3"
  },
  "language_info": {
   "codemirror_mode": {
    "name": "ipython",
    "version": 3
   },
   "file_extension": ".py",
   "mimetype": "text/x-python",
   "name": "python",
   "nbconvert_exporter": "python",
   "pygments_lexer": "ipython3",
   "version": "3.8.2"
  }
 },
 "nbformat": 4,
 "nbformat_minor": 5
}
