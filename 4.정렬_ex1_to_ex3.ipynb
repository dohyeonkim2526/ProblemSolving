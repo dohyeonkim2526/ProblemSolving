{
 "cells": [
  {
   "cell_type": "markdown",
   "id": "instant-suspension",
   "metadata": {},
   "source": [
    "## Python 정렬 함수"
   ]
  },
  {
   "cell_type": "markdown",
   "id": "undefined-strain",
   "metadata": {},
   "source": [
    "> * sort: 원본을 **변형** 시키는 정렬 함수\n",
    "> * sorted: 정렬만 해주고 원본을 **변형 시키지 않는** 함수"
   ]
  },
  {
   "cell_type": "markdown",
   "id": "demonstrated-motion",
   "metadata": {},
   "source": [
    "* 참고로, sort, sorted 함수는 2가지 Parameter을 사용할 수 있다.\n",
    "\n",
    "> * reverse: bool값을 이용해서 오름차순 혹은 내림차순을 정의할 수 있다.\n",
    "> * key: key 값을 기준으로 정렬할 수 있다. "
   ]
  },
  {
   "cell_type": "code",
   "execution_count": null,
   "id": "satisfactory-agency",
   "metadata": {},
   "outputs": [],
   "source": []
  },
  {
   "cell_type": "markdown",
   "id": "mexican-highway",
   "metadata": {},
   "source": [
    "### ex1. 위에서 아래로\n",
    "N 개의 수열을 내림차순으로 정렬하는 프로그램을 작성하여라."
   ]
  },
  {
   "cell_type": "code",
   "execution_count": 7,
   "id": "contained-verse",
   "metadata": {},
   "outputs": [
    {
     "name": "stdout",
     "output_type": "stream",
     "text": [
      "3\n",
      "15\n",
      "27\n",
      "12\n",
      "27 15 12 "
     ]
    }
   ],
   "source": [
    "n = int(input())\n",
    "arr = list()\n",
    "\n",
    "for _ in range(n):\n",
    "    arr.append(int(input()))\n",
    "    \n",
    "arr.sort(reverse = True)\n",
    "\n",
    "for a in arr:\n",
    "    print(a, end = ' ')"
   ]
  },
  {
   "cell_type": "code",
   "execution_count": null,
   "id": "foster-romance",
   "metadata": {},
   "outputs": [],
   "source": []
  },
  {
   "cell_type": "markdown",
   "id": "interested-richmond",
   "metadata": {},
   "source": [
    "### ex2. 성적이 낮은 순서로 학생 출력하기\n",
    "N명의 학생 정보(이름과 성적)가 주어졌을 때 성적이 낮은 순서대로 학생의 이름을 출력하는 프로그램을 작성하여라.\n",
    "\n",
    "(성적이 동일한 경우 학생들의 순서를 자유롭게 출력해도 된다.)"
   ]
  },
  {
   "cell_type": "code",
   "execution_count": 22,
   "id": "refined-gender",
   "metadata": {},
   "outputs": [
    {
     "name": "stdout",
     "output_type": "stream",
     "text": [
      "2\n",
      "홍길동 95\n",
      "이순신 77\n"
     ]
    }
   ],
   "source": [
    "n = int(input())\n",
    "arr = list()\n",
    "\n",
    "for _ in range(n):\n",
    "    arr.append(list(input().split()))"
   ]
  },
  {
   "cell_type": "code",
   "execution_count": 23,
   "id": "legal-robert",
   "metadata": {},
   "outputs": [
    {
     "name": "stdout",
     "output_type": "stream",
     "text": [
      "이순신 홍길동 "
     ]
    }
   ],
   "source": [
    "arr.sort(key = lambda score: score[1])\n",
    "\n",
    "for a in arr:\n",
    "    print(a[0], end = ' ')"
   ]
  },
  {
   "cell_type": "code",
   "execution_count": null,
   "id": "further-deviation",
   "metadata": {},
   "outputs": [],
   "source": []
  },
  {
   "cell_type": "markdown",
   "id": "quantitative-miami",
   "metadata": {},
   "source": [
    "### ex3. 두 배열의 원소 교체"
   ]
  },
  {
   "cell_type": "markdown",
   "id": "determined-merchandise",
   "metadata": {},
   "source": [
    "N개의 서로 다른 원소로 이루어진 2개의 배열 A,B가 존재한다. 이때 최대 K번의 바꿔치기 연산을 수행할 수 있는데, 바꿔치기 연산을 통해 A의 원소의 합으로 구할 수 있는 최대 값은? (바꿔치기 연산이란, A의 원소와 B의 원소를 서로 바꾸는 연산을 의미한다.)"
   ]
  },
  {
   "cell_type": "markdown",
   "id": "directed-saudi",
   "metadata": {},
   "source": [
    "* 풀이\n",
    "    - A는 최소값을 바꿔야하는 것이고, B는 최대값을 줘야하는 입장이다.\n",
    "    - 따라서 A는 오름차순 정렬을 통해 작은 값을 찾아야 하고, B는 내림차순 정렬을 통해 큰 값을 찾아줘야 한다.\n",
    "    - 단, 여기서 A원소 보다 작은 B원소는 바꿔치기 연산을 하면 안된다."
   ]
  },
  {
   "cell_type": "code",
   "execution_count": 46,
   "id": "arabic-burst",
   "metadata": {},
   "outputs": [
    {
     "name": "stdout",
     "output_type": "stream",
     "text": [
      "5 3\n",
      "1 2 5 4 3\n",
      "5 5 6 6 5\n"
     ]
    }
   ],
   "source": [
    "n,k = map(int, input().split())\n",
    "A = list(map(int, input().split()))\n",
    "B = list(map(int, input().split()))"
   ]
  },
  {
   "cell_type": "code",
   "execution_count": 47,
   "id": "spanish-wisdom",
   "metadata": {},
   "outputs": [
    {
     "name": "stdout",
     "output_type": "stream",
     "text": [
      "26\n"
     ]
    }
   ],
   "source": [
    "A.sort()\n",
    "B.sort(reverse = True)\n",
    "\n",
    "for i in range(k):\n",
    "    if A[i] < B[i]:\n",
    "        A[i], B[i] = B[i], A[i]\n",
    "        \n",
    "    else: #A[i] 원소가 더 크면 바꿔치기 연산을 하면 안된다.\n",
    "        break\n",
    "    \n",
    "print(sum(A))"
   ]
  },
  {
   "cell_type": "code",
   "execution_count": null,
   "id": "driving-computer",
   "metadata": {},
   "outputs": [],
   "source": []
  }
 ],
 "metadata": {
  "kernelspec": {
   "display_name": "Python 3",
   "language": "python",
   "name": "python3"
  },
  "language_info": {
   "codemirror_mode": {
    "name": "ipython",
    "version": 3
   },
   "file_extension": ".py",
   "mimetype": "text/x-python",
   "name": "python",
   "nbconvert_exporter": "python",
   "pygments_lexer": "ipython3",
   "version": "3.8.2"
  }
 },
 "nbformat": 4,
 "nbformat_minor": 5
}
