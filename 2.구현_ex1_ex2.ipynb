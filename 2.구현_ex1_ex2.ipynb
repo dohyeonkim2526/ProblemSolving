{
 "cells": [
  {
   "cell_type": "markdown",
   "id": "exotic-craps",
   "metadata": {},
   "source": [
    "### 상하좌우\n",
    "아래 4개의 문자에 따라서 이동할 때에 최종적으로 도착하는 지점의 좌표를 구하여라.\n",
    "* L: 왼쪽으로 한 칸 이동\n",
    "* R: 오른쪽으로 한 칸 이동\n",
    "* U: 위쪽으로 한 칸 이동\n",
    "* D: 아래쪽으로 한 칸 이동"
   ]
  },
  {
   "cell_type": "code",
   "execution_count": null,
   "id": "norwegian-operator",
   "metadata": {},
   "outputs": [],
   "source": [
    "'''\n",
    "행렬 인덱스 좌표를 기준으로 설명\n",
    "\n",
    "기준(3,3)\n",
    "왼쪽으로 이동(3,2) ... [0,-1]\n",
    "오른쪽으로 이동(3,4) ... [0,1]\n",
    "위쪽으로 이동(2,3) ... [-1,0]\n",
    "아래쪽으로 이동(4,3) ... [1,0]\n",
    "\n",
    "'''"
   ]
  },
  {
   "cell_type": "code",
   "execution_count": 6,
   "id": "italic-margin",
   "metadata": {},
   "outputs": [
    {
     "name": "stdout",
     "output_type": "stream",
     "text": [
      "5\n",
      "R R R U D D\n",
      "3 4\n"
     ]
    }
   ],
   "source": [
    "n = int(input())\n",
    "plans = input().split()\n",
    "x,y = 1,1\n",
    "\n",
    "directs = {'L':(0,-1), 'R':(0,1), 'U':(-1,0), 'D':(1,0)}\n",
    "\n",
    "for plan in plans:\n",
    "    dx,dy = directs.get(plan)[0], directs.get(plan)[1]\n",
    "    \n",
    "    if (x+dx <= 0) or (y+dy <= 0):\n",
    "        continue\n",
    "        \n",
    "    else:\n",
    "        x += dx\n",
    "        y += dy\n",
    "        \n",
    "print(x,y)"
   ]
  },
  {
   "cell_type": "code",
   "execution_count": null,
   "id": "intellectual-performer",
   "metadata": {},
   "outputs": [],
   "source": []
  },
  {
   "cell_type": "markdown",
   "id": "peaceful-ground",
   "metadata": {},
   "source": [
    "### 시각\n",
    "00시 00분 00초부터 N시 59분 59초까지의 시각 중에서 3이 포함되는 경우의 수를 구하여라."
   ]
  },
  {
   "cell_type": "code",
   "execution_count": 20,
   "id": "loose-petroleum",
   "metadata": {},
   "outputs": [
    {
     "name": "stdout",
     "output_type": "stream",
     "text": [
      "5\n",
      "11475\n"
     ]
    }
   ],
   "source": [
    "h = int(input())\n",
    "\n",
    "cnt = 0\n",
    "for i in range(h+1):\n",
    "    for j in range(60):\n",
    "        for k in range(60):\n",
    "            if '3' in str(i)+str(j)+str(k):\n",
    "                cnt += 1\n",
    "                \n",
    "print(cnt)"
   ]
  }
 ],
 "metadata": {
  "kernelspec": {
   "display_name": "Python 3",
   "language": "python",
   "name": "python3"
  },
  "language_info": {
   "codemirror_mode": {
    "name": "ipython",
    "version": 3
   },
   "file_extension": ".py",
   "mimetype": "text/x-python",
   "name": "python",
   "nbconvert_exporter": "python",
   "pygments_lexer": "ipython3",
   "version": "3.8.2"
  }
 },
 "nbformat": 4,
 "nbformat_minor": 5
}
