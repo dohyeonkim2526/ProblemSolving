{
 "cells": [
  {
   "cell_type": "markdown",
   "id": "legal-refund",
   "metadata": {},
   "source": [
    "### 떡볶이 떡 만들기\n",
    "절단기의 높이가 H인 경우, 떡의 길이가 H보다 긴 경우에는 떡의 윗 부분이 잘리게 된다. 예를 들어 19cm 떡이 있고 15cm 절단기가 있을 때에 떡은 4cm 만큼 잘리고, 손님은 4cm 떡을 가져가게 된다.\n",
    "\n",
    "손님이 요청한 길이가 M(cm) 일때에, 적어도 M만큼의 떡을 얻기 위해 절단기가 가질 수 있는 최대 높이를 구하여라.\n",
    "* 1 <= N <= 1,000,000 (떡의 개수)\n",
    "* 1 <= M <= 2,000,000,000 (요청한 떡의 길이)"
   ]
  },
  {
   "cell_type": "code",
   "execution_count": 8,
   "id": "brutal-improvement",
   "metadata": {},
   "outputs": [
    {
     "name": "stdout",
     "output_type": "stream",
     "text": [
      "4 6\n",
      "19 15 10 17\n"
     ]
    }
   ],
   "source": [
    "n,m = map(int, input().split())\n",
    "arr = list(map(int, input().split()))"
   ]
  },
  {
   "cell_type": "code",
   "execution_count": 9,
   "id": "regulated-lucas",
   "metadata": {},
   "outputs": [],
   "source": [
    "arr.sort()"
   ]
  },
  {
   "cell_type": "markdown",
   "id": "governmental-holiday",
   "metadata": {},
   "source": [
    "### 풀이1. 단순 if-else 구조를 이용한 풀이\n",
    "* 탐색 범위가 1부터 10억까지의 정수 중 하나이기 때문에, 순차 탐색을 이용하면 시간 초과 문제를 만날 수 있다.\n",
    "* 탐색 범위가 넓기 때문에 이진 탐색으로 푸는 것을 추천한다."
   ]
  },
  {
   "cell_type": "code",
   "execution_count": 15,
   "id": "grateful-combining",
   "metadata": {},
   "outputs": [
    {
     "name": "stdout",
     "output_type": "stream",
     "text": [
      "15\n"
     ]
    }
   ],
   "source": [
    "h = (arr[0]+arr[n-1])//2\n",
    "\n",
    "while True:\n",
    "    sum = 0\n",
    "    \n",
    "    for a in arr:\n",
    "        if h < a:\n",
    "            sum += (a-h)\n",
    "            \n",
    "    if sum == m:\n",
    "        break\n",
    "        \n",
    "    if sum < m:\n",
    "        h -= 1\n",
    "        \n",
    "    else:\n",
    "        h += 1\n",
    "        \n",
    "print(h)"
   ]
  },
  {
   "cell_type": "markdown",
   "id": "double-preliminary",
   "metadata": {},
   "source": [
    "### 풀이2. 이진 탐색(with 반복문)을 이용한 풀이"
   ]
  },
  {
   "cell_type": "code",
   "execution_count": 41,
   "id": "radical-express",
   "metadata": {},
   "outputs": [
    {
     "data": {
      "text/plain": [
       "[10, 15, 17, 19]"
      ]
     },
     "execution_count": 41,
     "metadata": {},
     "output_type": "execute_result"
    }
   ],
   "source": [
    "arr"
   ]
  },
  {
   "cell_type": "code",
   "execution_count": 55,
   "id": "competitive-behavior",
   "metadata": {},
   "outputs": [
    {
     "name": "stdout",
     "output_type": "stream",
     "text": [
      "15\n"
     ]
    }
   ],
   "source": [
    "st = 0\n",
    "end = arr[n-1]\n",
    "result = 0\n",
    "\n",
    "while (st <= end):\n",
    "    \n",
    "    total = 0 #손님이 얻어갈 수 있는 떡 길이의 총합\n",
    "    height = (st+end)//2\n",
    "    \n",
    "    for a in arr:\n",
    "        if a > height:\n",
    "            total += (a-height)\n",
    "            \n",
    "    #절단기의 높이를 높여도 되는 경우\n",
    "    if total > m:\n",
    "        st = height + 1\n",
    "    \n",
    "    #절단기의 높이를 줄여야 하는 경우(떡이 부족한 상황)\n",
    "    if total <= m:\n",
    "        end = height - 1\n",
    "        \n",
    "print(height)"
   ]
  },
  {
   "cell_type": "code",
   "execution_count": null,
   "id": "prospective-samuel",
   "metadata": {},
   "outputs": [],
   "source": []
  }
 ],
 "metadata": {
  "kernelspec": {
   "display_name": "Python 3",
   "language": "python",
   "name": "python3"
  },
  "language_info": {
   "codemirror_mode": {
    "name": "ipython",
    "version": 3
   },
   "file_extension": ".py",
   "mimetype": "text/x-python",
   "name": "python",
   "nbconvert_exporter": "python",
   "pygments_lexer": "ipython3",
   "version": "3.8.2"
  }
 },
 "nbformat": 4,
 "nbformat_minor": 5
}
