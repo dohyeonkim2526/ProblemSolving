{
 "cells": [
  {
   "cell_type": "markdown",
   "id": "functioning-mills",
   "metadata": {},
   "source": [
    "### * DFS/BFS 예시 더 풀어보기\n"
   ]
  },
  {
   "cell_type": "markdown",
   "id": "institutional-kingdom",
   "metadata": {},
   "source": [
    "### EX1) 음료수 얼려 먹기\n",
    "N X M 크기의 얼음틀이 존재하며 아래의 조건을 이용해서 만들 수 있는 아이스크림의 개수를 출력하여라.\n",
    "\n",
    "* 구멍이 뚫려 있는 부분 0, 칸막이가 존재하는 부분 1\n",
    "* 구멍이 뚫려 있는 부분끼리 상, 하, 좌, 우로 붙어 있으면 연결된 것으로 간주"
   ]
  },
  {
   "cell_type": "code",
   "execution_count": null,
   "id": "convertible-arthur",
   "metadata": {},
   "outputs": [],
   "source": [
    "'''\n",
    "(input)\n",
    "15 14\n",
    "00000111100000\n",
    "11111101111110\n",
    "11011101101110\n",
    "11011101100000\n",
    "11011111111111\n",
    "11011111111100\n",
    "11000000011111\n",
    "01111111111111\n",
    "00000000011111\n",
    "01111111111000\n",
    "00011111111000\n",
    "00000001111000\n",
    "11111111110011\n",
    "11100011111111\n",
    "11100011111111\n",
    "\n",
    "'''"
   ]
  },
  {
   "cell_type": "code",
   "execution_count": 12,
   "id": "relative-wonder",
   "metadata": {},
   "outputs": [
    {
     "name": "stdout",
     "output_type": "stream",
     "text": [
      "15 14\n",
      "00000111100000\n",
      "11111101111110\n",
      "11011101101110\n",
      "11011101100000\n",
      "11011111111111\n",
      "11011111111100\n",
      "11000000011111\n",
      "01111111111111\n",
      "00000000011111\n",
      "01111111111000\n",
      "00011111111000\n",
      "00000001111000\n",
      "11111111110011\n",
      "11100011111111\n",
      "11100011111111\n"
     ]
    }
   ],
   "source": [
    "n,m = map(int, input().split())\n",
    "graph = list() #얼음틀\n",
    "\n",
    "for _ in range(n):\n",
    "    graph.append(list(map(int, input())))"
   ]
  },
  {
   "cell_type": "code",
   "execution_count": 13,
   "id": "sweet-engagement",
   "metadata": {},
   "outputs": [
    {
     "data": {
      "text/plain": [
       "[[0, 0, 0, 0, 0, 1, 1, 1, 1, 0, 0, 0, 0, 0],\n",
       " [1, 1, 1, 1, 1, 1, 0, 1, 1, 1, 1, 1, 1, 0],\n",
       " [1, 1, 0, 1, 1, 1, 0, 1, 1, 0, 1, 1, 1, 0],\n",
       " [1, 1, 0, 1, 1, 1, 0, 1, 1, 0, 0, 0, 0, 0],\n",
       " [1, 1, 0, 1, 1, 1, 1, 1, 1, 1, 1, 1, 1, 1],\n",
       " [1, 1, 0, 1, 1, 1, 1, 1, 1, 1, 1, 1, 0, 0],\n",
       " [1, 1, 0, 0, 0, 0, 0, 0, 0, 1, 1, 1, 1, 1],\n",
       " [0, 1, 1, 1, 1, 1, 1, 1, 1, 1, 1, 1, 1, 1],\n",
       " [0, 0, 0, 0, 0, 0, 0, 0, 0, 1, 1, 1, 1, 1],\n",
       " [0, 1, 1, 1, 1, 1, 1, 1, 1, 1, 1, 0, 0, 0],\n",
       " [0, 0, 0, 1, 1, 1, 1, 1, 1, 1, 1, 0, 0, 0],\n",
       " [0, 0, 0, 0, 0, 0, 0, 1, 1, 1, 1, 0, 0, 0],\n",
       " [1, 1, 1, 1, 1, 1, 1, 1, 1, 1, 0, 0, 1, 1],\n",
       " [1, 1, 1, 0, 0, 0, 1, 1, 1, 1, 1, 1, 1, 1],\n",
       " [1, 1, 1, 0, 0, 0, 1, 1, 1, 1, 1, 1, 1, 1]]"
      ]
     },
     "execution_count": 13,
     "metadata": {},
     "output_type": "execute_result"
    }
   ],
   "source": [
    "graph"
   ]
  },
  {
   "cell_type": "code",
   "execution_count": 14,
   "id": "peripheral-victorian",
   "metadata": {},
   "outputs": [],
   "source": [
    "def dfs(x,y):\n",
    "    \n",
    "    if x >= n or x <= -1 or y >= m or y <= -1: #얼음틀을 벗어나면 Out\n",
    "        return False\n",
    "    \n",
    "    if graph[x][y] == 0:\n",
    "        graph[x][y] = 1 #확인한 부분은 1로 바꿔서 표시 \n",
    "        \n",
    "        # 상,하,좌,우 확인\n",
    "        dfs(x,y+1)\n",
    "        dfs(x,y-1)\n",
    "        dfs(x-1,y)\n",
    "        dfs(x+1,y)\n",
    "        \n",
    "        return True\n",
    "    \n",
    "    return False"
   ]
  },
  {
   "cell_type": "code",
   "execution_count": 15,
   "id": "promotional-germany",
   "metadata": {},
   "outputs": [
    {
     "name": "stdout",
     "output_type": "stream",
     "text": [
      "8\n"
     ]
    }
   ],
   "source": [
    "cnt = 0\n",
    "\n",
    "for i in range(n):\n",
    "    for j in range(m):\n",
    "        if dfs(i,j) == True:\n",
    "            cnt += 1\n",
    "            \n",
    "print(cnt)"
   ]
  },
  {
   "cell_type": "code",
   "execution_count": null,
   "id": "related-police",
   "metadata": {},
   "outputs": [],
   "source": []
  },
  {
   "cell_type": "markdown",
   "id": "complex-israel",
   "metadata": {},
   "source": [
    "### EX2) 미로 탈출\n",
    "NXM 크기의 미로에 있을 때에 (1,1)에서 미로의 출구(N,M)으로 이동해서 탈출해야 한다. 이 때에 탈출의 위해 움직이는 최소 칸의 개수를 구하여라. \n",
    "\n",
    "**<규칙>**\n",
    "1. 칸을 셀 때는 시작과 마지막 칸을 모두 포함해서 계산한다.\n",
    "2. 괴물이 있으면 0, 없으면 1로 표시한다.\n",
    "3. 괴물을 피해서 미로를 탈출해야 한다.\n",
    " "
   ]
  },
  {
   "cell_type": "code",
   "execution_count": 40,
   "id": "convenient-anniversary",
   "metadata": {},
   "outputs": [
    {
     "name": "stdout",
     "output_type": "stream",
     "text": [
      "5 6 \n",
      "101010\n",
      "111111\n",
      "000001\n",
      "111111\n",
      "111111\n"
     ]
    }
   ],
   "source": [
    "from collections import deque\n",
    "\n",
    "n,m = map(int, input().split())\n",
    "maze = list()\n",
    "\n",
    "for _ in range(n):\n",
    "    maze.append(list(map(int, input())))"
   ]
  },
  {
   "cell_type": "code",
   "execution_count": 54,
   "id": "adopted-festival",
   "metadata": {},
   "outputs": [
    {
     "name": "stdout",
     "output_type": "stream",
     "text": [
      "10\n"
     ]
    }
   ],
   "source": [
    "# 상(-1,0), 하(1,0), 좌(0,-1), 우(0,1)\n",
    "\n",
    "dx = [-1,1,0,0]\n",
    "dy = [0,0,-1,1]\n",
    "\n",
    "def bfs(x,y):\n",
    "    \n",
    "    queue = deque()\n",
    "    queue.append((x,y))\n",
    "    \n",
    "    while queue:\n",
    "        x,y = queue.popleft()\n",
    "        \n",
    "        for i in range(4):\n",
    "            nx = x + dx[i]\n",
    "            ny = y + dy[i]\n",
    "            \n",
    "            # 미로 공간을 벗어난 경우는 Stop!\n",
    "            if nx < 0 or nx >= n or ny < 0 or ny >= m:\n",
    "                continue\n",
    "            \n",
    "            # 괴물이 있으면 넘어감\n",
    "            if graph[nx][ny] == 0:\n",
    "                continue\n",
    "                \n",
    "            if graph[nx][ny] == 1:\n",
    "                graph[nx][ny] = graph[x][y] + 1\n",
    "                queue.append((nx,ny))\n",
    "                \n",
    "    return graph[n-1][m-1]\n",
    "\n",
    "print(bfs(0,0))"
   ]
  },
  {
   "cell_type": "code",
   "execution_count": null,
   "id": "apparent-capture",
   "metadata": {},
   "outputs": [],
   "source": []
  }
 ],
 "metadata": {
  "kernelspec": {
   "display_name": "Python 3",
   "language": "python",
   "name": "python3"
  },
  "language_info": {
   "codemirror_mode": {
    "name": "ipython",
    "version": 3
   },
   "file_extension": ".py",
   "mimetype": "text/x-python",
   "name": "python",
   "nbconvert_exporter": "python",
   "pygments_lexer": "ipython3",
   "version": "3.8.2"
  }
 },
 "nbformat": 4,
 "nbformat_minor": 5
}
