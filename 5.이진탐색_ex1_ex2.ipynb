{
 "cells": [
  {
   "cell_type": "markdown",
   "id": "spectacular-exhibition",
   "metadata": {},
   "source": [
    "## Python 이진 탐색\n",
    "* 이진 탐색 문제는 입력 데이터가 많을 수 있기 때문에 input()을 사용하면 느려질 수 있다.\n",
    "* 이를 보완하기 위해서 입력 시간을 줄일 수 있는 sys 라이브러리를 활용하면 된다.\n",
    "\n",
    "> * import sys\n",
    "> * data = sys.stdin.readline().rstrip()"
   ]
  },
  {
   "cell_type": "code",
   "execution_count": null,
   "id": "elect-being",
   "metadata": {},
   "outputs": [],
   "source": []
  },
  {
   "cell_type": "markdown",
   "id": "geographic-proportion",
   "metadata": {},
   "source": [
    "### ex1. 부품 찾기\n",
    "현재 일하고 있는 전자 매장에선 N개의 부품을 가지고 있다. 이 때, 한 손님이 M개의 부품의 견적서를 요청하였을 때에 부품이 있으면 yes, 없으면 no를 출력하여라.\n",
    "\n",
    "(단, 손님이 요청한 부품 번호의 순서대로 부품을 확인해야 한다.)"
   ]
  },
  {
   "cell_type": "markdown",
   "id": "chronic-powder",
   "metadata": {},
   "source": [
    "### 풀이\n",
    "> * 정수 N의 범위가 100만 단위의 대용량 데이터이므로 \"이진탐색\"으로 접근해본다.\n",
    "> * 이진탐색을 재귀 함수로 구현\n",
    "> * (계속 놓쳤던 부분1) 재귀 함수를 만들기 위해서는 **return** Function 문법을 이용해야 한다.\n",
    "> * (계속 놓쳤던 부분2) 이진 탐색을 이용하기 위해서는 배열을 **정렬** 해준 뒤 사용해야 한다!!"
   ]
  },
  {
   "cell_type": "code",
   "execution_count": 35,
   "id": "sublime-asthma",
   "metadata": {},
   "outputs": [
    {
     "name": "stdout",
     "output_type": "stream",
     "text": [
      "5\n",
      "8 3 7 9 2\n",
      "3\n",
      "5 7 9\n"
     ]
    }
   ],
   "source": [
    "n = int(input())\n",
    "stores = list(map(int, input().split()))\n",
    "\n",
    "stores.sort() # 이진탐색을 사용하기 위해서는 배열을 정렬해줘야 한다.\n",
    "\n",
    "m = int(input())\n",
    "customers = list(map(int, input().split()))"
   ]
  },
  {
   "cell_type": "code",
   "execution_count": 36,
   "id": "arctic-supply",
   "metadata": {},
   "outputs": [
    {
     "name": "stdout",
     "output_type": "stream",
     "text": [
      "no yes yes "
     ]
    }
   ],
   "source": [
    "def binary_search(arr, value, first, end):\n",
    "    \n",
    "    #first, end, mid는 배열의 index 값임을 잊지말기!\n",
    "    if first > end:\n",
    "        return False\n",
    "    \n",
    "    mid = (first + end) // 2\n",
    "    \n",
    "    if arr[mid] == value:\n",
    "        return True\n",
    "    \n",
    "    elif arr[mid] > value:\n",
    "        return binary_search(arr, value, first, mid-1)\n",
    "    \n",
    "    else:\n",
    "        return binary_search(arr, value, mid+1, end)\n",
    "\n",
    "\n",
    "for c in customers:\n",
    "    \n",
    "    if binary_search(stores, c, 0, len(stores)-1) == True:\n",
    "        print('yes', end = ' ')\n",
    "        \n",
    "    else:\n",
    "        print('no', end = ' ')"
   ]
  },
  {
   "cell_type": "code",
   "execution_count": 20,
   "id": "fuzzy-spine",
   "metadata": {},
   "outputs": [
    {
     "data": {
      "text/plain": [
       "3"
      ]
     },
     "execution_count": 20,
     "metadata": {},
     "output_type": "execute_result"
    }
   ],
   "source": [
    "(3+4)//2"
   ]
  },
  {
   "cell_type": "code",
   "execution_count": null,
   "id": "central-fabric",
   "metadata": {},
   "outputs": [],
   "source": []
  }
 ],
 "metadata": {
  "kernelspec": {
   "display_name": "Python 3",
   "language": "python",
   "name": "python3"
  },
  "language_info": {
   "codemirror_mode": {
    "name": "ipython",
    "version": 3
   },
   "file_extension": ".py",
   "mimetype": "text/x-python",
   "name": "python",
   "nbconvert_exporter": "python",
   "pygments_lexer": "ipython3",
   "version": "3.8.2"
  }
 },
 "nbformat": 4,
 "nbformat_minor": 5
}
