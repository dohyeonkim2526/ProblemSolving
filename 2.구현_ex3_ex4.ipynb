{
 "cells": [
  {
   "cell_type": "markdown",
   "id": "supreme-cambodia",
   "metadata": {},
   "source": [
    "### 왕실의 나이트\n",
    "\n",
    "8X8 체스판 위에서 나이트의 위치가 주어졌을 때, 나이트가 이동할 수 있는 경우의 수를 구하여라. (단, 아래의 2가지 방식만 가능)\n",
    "\n",
    "* 1. 수평으로 두 칸 이동한 뒤에 수직으로 한 칸 이동\n",
    "* 2. 수직으로 두 칸 이동한 뒤에 수평으로 한 칸 이동"
   ]
  },
  {
   "cell_type": "code",
   "execution_count": null,
   "id": "copyrighted-ending",
   "metadata": {},
   "outputs": [],
   "source": [
    "'''\n",
    "(3,3 인덱스 기준 예시)\n",
    "\n",
    "(1,1) (1,2) (1,3) (1,4) (1,5)\n",
    "(2,1) (2,2) (2,3) (2,4) (2,5)\n",
    "(3,1) (3,2) (3,3) (3,4) (3,5)\n",
    "(4,1) (4,2) (4,3) (4,4) (4,5)\n",
    "(5,1) (5,2) (5,3) (5,4) (5,5)\n",
    "\n",
    "오른쪽2 수평 이동 + 위칸 (2,5) : (-1,2)\n",
    "오른쪽2 수평 이동 + 아래칸 (4,5) : (1,2)\n",
    "왼쪽2 수평 이동 + 위칸 (2,1) : (-1,-2)\n",
    "왼쪽2 수평 이동 + 아래칸 (4,1) : (1,-2)\n",
    "위2 수직 이동 + 오른쪽 (1,4) : (-2,1)\n",
    "위2 수직 이동 + 왼쪽 (1,2) : (-2,-1)\n",
    "아래2 수직 이동 + 오른쪽 (5,4) : (2,1)\n",
    "아래2 수직 이동 + 왼쪽 (5,2) : (2,-1)\n",
    "\n",
    "'''"
   ]
  },
  {
   "cell_type": "code",
   "execution_count": 30,
   "id": "ranking-trustee",
   "metadata": {},
   "outputs": [
    {
     "name": "stdout",
     "output_type": "stream",
     "text": [
      "a1\n",
      "2\n"
     ]
    }
   ],
   "source": [
    "col = {'a':1, 'b':2, 'c':3, 'd':4,\n",
    "       'e':5, 'f':6, 'g':7, 'h':8}\n",
    "\n",
    "input_data = input()\n",
    "x,y = int(col.get(input_data[0])), int(input_data[1])\n",
    "\n",
    "dx = [-1,1,-1,1,-2,-2,2,2]\n",
    "dy = [2,2,-2,-2,1,-1,1,-1]\n",
    "cnt = 0\n",
    "\n",
    "for i in range(len(dx)):\n",
    "    if (x + dx[i]) >= 1 and (x + dx[i]) <= 8 and (y + dy[i]) >= 1 and (y + dy[i]) <= 8: #나이트가 체스판을 벗어나면 안됨\n",
    "        cnt += 1\n",
    "\n",
    "print(cnt)"
   ]
  },
  {
   "cell_type": "code",
   "execution_count": null,
   "id": "metric-baptist",
   "metadata": {},
   "outputs": [],
   "source": []
  },
  {
   "cell_type": "code",
   "execution_count": 24,
   "id": "balanced-grass",
   "metadata": {},
   "outputs": [
    {
     "name": "stdout",
     "output_type": "stream",
     "text": [
      "a\n",
      "a 1\n"
     ]
    }
   ],
   "source": [
    "# 문자를 숫자로 바꾸는 방법\n",
    "# ord() : 문자 -> 유니코드 값 반환\n",
    "# chr() : 유니코드 값 -> 문자 반환\n",
    "\n",
    "input_data = input()\n",
    "x = int(ord(input_data)) - int(ord('a')) + 1\n",
    "\n",
    "print(input_data, x)"
   ]
  },
  {
   "cell_type": "code",
   "execution_count": null,
   "id": "thousand-uniform",
   "metadata": {},
   "outputs": [],
   "source": []
  },
  {
   "cell_type": "markdown",
   "id": "international-voice",
   "metadata": {},
   "source": [
    "### 게임 개발 - 나의 풀이\n",
    "> * 캐릭터가 현재의 위치에서 이동할 방향을 dictionary로 표현하였다.\n",
    "> * 현재의 위치(Key)에 대해서 이동하는 x좌표, y좌표, 새로운 방향을 (Value)로 설정하여서 코드의 가독성을 높이고자 하였다.\n",
    "> * 그러나 네 방향을 모두 이동할 수 없는 조건을 완벽하게 구현하진 못했다. 만약 이러한 조건이 없었다면 완벽한 코드였을 것이다."
   ]
  },
  {
   "cell_type": "markdown",
   "id": "attempted-palestine",
   "metadata": {},
   "source": [
    "NXM 게임맵 안에서 아래의 메뉴얼대로 수행할 경우 캐릭터가 방문하는 칸의 수를 입력하여라.\n",
    "\n",
    "[메뉴얼]\n",
    "* 1.현재 방향을 기준으로 왼쪽 방향부터 차례대로 갈 곳을 정한다.\n",
    "* 2.왼쪽 방향에 가보지 않은 칸이 존재한다면 왼쪽 방향으로 회전한 다음 왼쪽으로 한 칸 전진한다. (가보지 않은 칸이 없다면 회전만 수행하고 1단계로 back)\n",
    "* 3.네 방향 모두 가보았거나 바다로 되어 있는 경우, 바라보는 방향을 유지한 채로 한 칸 뒤로 가고 1단계로 back (뒤쪽이 바다인 경우에는 stop)\n",
    "\n",
    "[방향 d]\n",
    "* 0:북쪽\n",
    "* 1:동쪽\n",
    "* 2:남쪽\n",
    "* 3:서쪽\n",
    "\n",
    "[지도맵]\n",
    "* 0:육지\n",
    "* 1:바다"
   ]
  },
  {
   "cell_type": "code",
   "execution_count": 83,
   "id": "accredited-sheriff",
   "metadata": {},
   "outputs": [
    {
     "name": "stdout",
     "output_type": "stream",
     "text": [
      "4 4\n",
      "1 1 0\n",
      "1 1 1 1\n",
      "1 0 0 1\n",
      "1 1 0 1\n",
      "1 1 1 1\n"
     ]
    }
   ],
   "source": [
    "# 쉽게 생각하면 현재 위치에서 이동할 수 있는 0(육지)의 개수\n",
    "n,m = map(int, input().split())\n",
    "a,b,d = map(int, input().split())\n",
    "\n",
    "game_map = list()\n",
    "\n",
    "for _ in range(n):\n",
    "    game_map.append(list(map(int, input().split()))) #게임맵 지도\n",
    "    \n",
    "move_map = [[0] * m for _ in range(n)] #캐릭터가 움직이는 위치 (이동할때마다 1로 표시)\n",
    "move_map[a][b] = 1"
   ]
  },
  {
   "cell_type": "code",
   "execution_count": null,
   "id": "pointed-typing",
   "metadata": {},
   "outputs": [],
   "source": [
    "'''\n",
    "육지가 있는 경우 (x좌표 이동, y좌표 이동, 새로운 방향)\n",
    "\n",
    "(0)북쪽을 바라보는 경우 -> 서쪽 (0,-1,3) ... (0,-1) 좌표 이동과 동시에 서쪽(3)을 바라보게 된다.\n",
    "(1)동쪽을 바라보는 경우 -> 북쪽 (-1,0,0)\n",
    "(2)남쪽을 바라보는 경우 -> 동쪽 (0,1,1)\n",
    "(3)서쪽을 바라보는 경우 -> 남쪽 (1,0,2)\n",
    "\n",
    "'''"
   ]
  },
  {
   "cell_type": "code",
   "execution_count": 84,
   "id": "provincial-rapid",
   "metadata": {},
   "outputs": [],
   "source": [
    "directions = {0:(0,-1,3),\n",
    "              1:(-1,0,0),\n",
    "              2:(0,1,1),\n",
    "              3:(1,0,2)}\n",
    "\n",
    "cnt = 0\n",
    "\n",
    "while (cnt<4):\n",
    "    dx,dy = int(directions.get(d)[0]), int(directions.get(d)[1])\n",
    "    dd = int(directions.get(d)[2])\n",
    "    \n",
    "    if move_map[a+dx][b+dy] == 1: #이미 다녀간 경로\n",
    "        cnt += 1\n",
    "        d = dd\n",
    "    \n",
    "    else:\n",
    "        if game_map[a+dx][b+dy] == 0: #육지인 경우 이동 \n",
    "            move_map[a+dx][b+dy] = 1 #캐릭터가 움직이는 위치 표시\n",
    "            d = dd #캐릭터가 바라보고 있는 방향\n",
    "            a += dx\n",
    "            b += dy\n",
    "            cnt = 0\n",
    "        \n",
    "        else:\n",
    "            d = dd #캐릭터가 봐라보고 있는 방향만 전환\n",
    "            cnt += 1     "
   ]
  },
  {
   "cell_type": "code",
   "execution_count": 87,
   "id": "invisible-singles",
   "metadata": {},
   "outputs": [
    {
     "name": "stdout",
     "output_type": "stream",
     "text": [
      "3\n"
     ]
    }
   ],
   "source": [
    "ans = 0\n",
    "\n",
    "for i in range(len(move_map)):\n",
    "    for j in range(len(move_map)):\n",
    "        if move_map[i][j] == 1:\n",
    "            ans += 1\n",
    "            \n",
    "print(ans)"
   ]
  },
  {
   "cell_type": "code",
   "execution_count": null,
   "id": "sacred-words",
   "metadata": {},
   "outputs": [],
   "source": []
  },
  {
   "cell_type": "markdown",
   "id": "muslim-bachelor",
   "metadata": {},
   "source": [
    "### 게임 개발 - 새로운 풀이\n",
    "> * (dictionary 대신) 리스트 사용"
   ]
  },
  {
   "cell_type": "code",
   "execution_count": 99,
   "id": "japanese-encyclopedia",
   "metadata": {},
   "outputs": [
    {
     "name": "stdout",
     "output_type": "stream",
     "text": [
      "4 4\n",
      "1 1 0\n",
      "1 1 1 1\n",
      "1 0 0 1\n",
      "1 1 0 1\n",
      "1 1 1 1\n"
     ]
    }
   ],
   "source": [
    "n,m = map(int, input().split())\n",
    "a,b,d = map(int, input().split())\n",
    "\n",
    "move_map = [[0]*m for _ in range(n)]\n",
    "move_map[a][b] = 1\n",
    "\n",
    "game_map = list()\n",
    "for _ in range(n):\n",
    "    game_map.append(list(map(int, input().split())))\n",
    "    \n",
    "# 북쪽, 동쪽, 남쪽, 서쪽\n",
    "dx = [-1,0,1,0]\n",
    "dy = [0,1,0,-1]"
   ]
  },
  {
   "cell_type": "code",
   "execution_count": 100,
   "id": "interstate-framing",
   "metadata": {},
   "outputs": [
    {
     "name": "stdout",
     "output_type": "stream",
     "text": [
      "3\n"
     ]
    }
   ],
   "source": [
    "def turn_left():\n",
    "    global d #global(전역변수) -> 함수 안에서 정의한 변수를 함수 밖에서 사용하는 경우에 이용한다.\n",
    "    d -= 1\n",
    "    \n",
    "    if d == -1:\n",
    "        d = 3\n",
    "        \n",
    "cnt = 1\n",
    "turn_time = 0\n",
    "\n",
    "while True:\n",
    "    turn_left()\n",
    "    \n",
    "    nx = a+dx[d]\n",
    "    ny = b+dy[d]\n",
    "    \n",
    "    if move_map[nx][ny] == 0 and game_map[nx][ny] == 0: #이동해보지 않았던 육지\n",
    "        move_map[nx][ny] = 1\n",
    "        a = nx\n",
    "        b = ny\n",
    "        cnt += 1\n",
    "        turn_time = 0\n",
    "        continue\n",
    "        \n",
    "    else:\n",
    "        turn_time += 1\n",
    "    \n",
    "    if turn_time == 4: #모든 네 방향으로 이동할 수 없는 경우 -> 뒤로 이동\n",
    "        nx = x-dx[d]\n",
    "        ny = y-dy[d]\n",
    "        \n",
    "        if game_map[nx][ny] == 0: #뒤로 이동할 때에는 이전에 갔던 곳이어도 상관 없음\n",
    "            a = nx, y = ny\n",
    "        \n",
    "        else: #이동할 수도 없고, 뒷칸이 바다인 경우 Stop\n",
    "            break\n",
    "        \n",
    "        turn_time = 0\n",
    "        \n",
    "print(cnt)"
   ]
  },
  {
   "cell_type": "code",
   "execution_count": null,
   "id": "finished-desperate",
   "metadata": {},
   "outputs": [],
   "source": []
  }
 ],
 "metadata": {
  "kernelspec": {
   "display_name": "Python 3",
   "language": "python",
   "name": "python3"
  },
  "language_info": {
   "codemirror_mode": {
    "name": "ipython",
    "version": 3
   },
   "file_extension": ".py",
   "mimetype": "text/x-python",
   "name": "python",
   "nbconvert_exporter": "python",
   "pygments_lexer": "ipython3",
   "version": "3.8.2"
  }
 },
 "nbformat": 4,
 "nbformat_minor": 5
}
