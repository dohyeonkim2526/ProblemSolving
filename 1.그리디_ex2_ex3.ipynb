{
 "cells": [
  {
   "cell_type": "markdown",
   "id": "illegal-narrative",
   "metadata": {},
   "source": [
    "### 숫자 카드 게임\n",
    "N x M 행렬의 카드를 받고, N개의 각 행마다 가장 작은 수를 찾아야 한다. 그리고 그 중에서 가장 최댓값을 알아내어야 한다."
   ]
  },
  {
   "cell_type": "code",
   "execution_count": 2,
   "id": "dried-sullivan",
   "metadata": {},
   "outputs": [
    {
     "name": "stdout",
     "output_type": "stream",
     "text": [
      "2 4\n",
      "7 3 1 8\n",
      "3 3 3 4\n",
      "3\n"
     ]
    }
   ],
   "source": [
    "n,m = map(int, input().split())\n",
    "result = list()\n",
    "\n",
    "for _ in range(n):   \n",
    "    data = list(map(int, input().split()))\n",
    "    result.append(min(data))\n",
    "    \n",
    "print(max(result))"
   ]
  },
  {
   "cell_type": "code",
   "execution_count": null,
   "id": "union-faculty",
   "metadata": {},
   "outputs": [],
   "source": []
  },
  {
   "cell_type": "markdown",
   "id": "capital-millennium",
   "metadata": {},
   "source": [
    "### 1이 될 때까지\n",
    "N이 1이 될 때까지 아래의 과정을 반복적으로 수행해야 하며, 이때 N을 1로 만들기 위해 수행해야 하는 단계의 횟수를 찾아야 한다.\n",
    "\n",
    "* 1. N에서 1을 뺀다.\n",
    "* 2. N을 K로 나눈다. (단, K로 나누어떨어질 때만 가능)"
   ]
  },
  {
   "cell_type": "code",
   "execution_count": 3,
   "id": "altered-culture",
   "metadata": {},
   "outputs": [
    {
     "name": "stdout",
     "output_type": "stream",
     "text": [
      "25 5\n"
     ]
    }
   ],
   "source": [
    "n,k = map(int, input().split())\n",
    "cnt = 0\n",
    "\n",
    "while(n!=1):\n",
    "    if (n%k == 0):\n",
    "        n /= k\n",
    "        cnt += 1\n",
    "        \n",
    "    else:\n",
    "        n -= 1\n",
    "        cnt += 1"
   ]
  },
  {
   "cell_type": "code",
   "execution_count": 4,
   "id": "spectacular-tracker",
   "metadata": {},
   "outputs": [
    {
     "data": {
      "text/plain": [
       "2"
      ]
     },
     "execution_count": 4,
     "metadata": {},
     "output_type": "execute_result"
    }
   ],
   "source": [
    "cnt"
   ]
  }
 ],
 "metadata": {
  "kernelspec": {
   "display_name": "Python 3",
   "language": "python",
   "name": "python3"
  },
  "language_info": {
   "codemirror_mode": {
    "name": "ipython",
    "version": 3
   },
   "file_extension": ".py",
   "mimetype": "text/x-python",
   "name": "python",
   "nbconvert_exporter": "python",
   "pygments_lexer": "ipython3",
   "version": "3.8.2"
  }
 },
 "nbformat": 4,
 "nbformat_minor": 5
}
