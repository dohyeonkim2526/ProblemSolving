{
 "cells": [
  {
   "cell_type": "markdown",
   "id": "tested-invitation",
   "metadata": {},
   "source": [
    "### 그리디 알고리즘 예제 - 큰 수의 법칙"
   ]
  },
  {
   "cell_type": "markdown",
   "id": "automated-advancement",
   "metadata": {},
   "source": [
    "배열의 수들을 M번 더하여 만들 수 있는 가장 큰 수를 찾아야 한다.\n",
    "\n",
    "단, (인덱스를 기준으로) 연속 K번을 초과해서 더해질 수는 없다.\n",
    "그리고 같은 숫자일지라도 인덱스가 다른 경우에는 서로 다른 수로 판단한다"
   ]
  },
  {
   "cell_type": "markdown",
   "id": "lined-brush",
   "metadata": {},
   "source": [
    "### 기본 풀이1"
   ]
  },
  {
   "cell_type": "code",
   "execution_count": 14,
   "id": "aerial-fitness",
   "metadata": {},
   "outputs": [
    {
     "name": "stdout",
     "output_type": "stream",
     "text": [
      "5 8 3\n",
      "2 4 5 4 6\n"
     ]
    }
   ],
   "source": [
    "n,m,k = map(int, input().split()) #5 8 3\n",
    "data = list(map(int, input().split())) #2 4 5 4 6"
   ]
  },
  {
   "cell_type": "code",
   "execution_count": 15,
   "id": "extreme-hazard",
   "metadata": {},
   "outputs": [],
   "source": [
    "ans = 0\n",
    "data.sort()\n",
    "\n",
    "first = data[n-1]\n",
    "second = data[n-2]"
   ]
  },
  {
   "cell_type": "code",
   "execution_count": 17,
   "id": "productive-nerve",
   "metadata": {},
   "outputs": [],
   "source": [
    "while(True):\n",
    "    for _ in range(k):\n",
    "        \n",
    "        if m == 0:\n",
    "            break\n",
    "            \n",
    "        ans += first\n",
    "        m -= 1\n",
    "        \n",
    "    if m == 0:\n",
    "        break\n",
    "    \n",
    "    ans += second\n",
    "    m -= 1"
   ]
  },
  {
   "cell_type": "code",
   "execution_count": 18,
   "id": "completed-tutorial",
   "metadata": {},
   "outputs": [
    {
     "data": {
      "text/plain": [
       "46"
      ]
     },
     "execution_count": 18,
     "metadata": {},
     "output_type": "execute_result"
    }
   ],
   "source": [
    "ans"
   ]
  },
  {
   "cell_type": "code",
   "execution_count": null,
   "id": "pleasant-myrtle",
   "metadata": {},
   "outputs": [],
   "source": []
  },
  {
   "cell_type": "markdown",
   "id": "derived-museum",
   "metadata": {},
   "source": [
    "### 기본 풀이2"
   ]
  },
  {
   "cell_type": "code",
   "execution_count": null,
   "id": "legislative-vulnerability",
   "metadata": {},
   "outputs": [],
   "source": [
    "'''\n",
    "list: [2,4,5,4,6]\n",
    "k: 3, m:8\n",
    "\n",
    "덧셈에 활용되는 반복되는 순열 [6,6,6,5] -> k+1개\n",
    "\n",
    "m//(k+1) 몫: 순열이 더해지는 횟수\n",
    "m%(k+1) 나머지: 순열의 반복 이후에 first 숫자가 더해지는 횟수\n",
    "\n",
    "ex)\n",
    "8//4 = 2\n",
    "8%4 = 0\n",
    "\n",
    "sum = 2*[6+6+6+5]\n",
    "\n",
    "'''"
   ]
  },
  {
   "cell_type": "code",
   "execution_count": 33,
   "id": "gross-destiny",
   "metadata": {},
   "outputs": [
    {
     "name": "stdout",
     "output_type": "stream",
     "text": [
      "5 8 3\n",
      "2 4 5 4 6\n"
     ]
    }
   ],
   "source": [
    "n,m,k = map(int, input().split()) #5 8 3\n",
    "data = list(map(int, input().split())) #2 4 5 4 6\n",
    "\n",
    "data.sort()\n",
    "first = data[n-1]\n",
    "second = data[n-2]\n",
    "\n",
    "ans = 0\n",
    "count1 = m//(k+1)\n",
    "count2 = m%(k+1)\n",
    "\n",
    "ans += (count1)*first*k\n",
    "ans += (count1)*second\n",
    "ans += (count2)*first"
   ]
  },
  {
   "cell_type": "code",
   "execution_count": 34,
   "id": "exterior-victim",
   "metadata": {},
   "outputs": [
    {
     "data": {
      "text/plain": [
       "46"
      ]
     },
     "execution_count": 34,
     "metadata": {},
     "output_type": "execute_result"
    }
   ],
   "source": [
    "ans"
   ]
  }
 ],
 "metadata": {
  "kernelspec": {
   "display_name": "Python 3",
   "language": "python",
   "name": "python3"
  },
  "language_info": {
   "codemirror_mode": {
    "name": "ipython",
    "version": 3
   },
   "file_extension": ".py",
   "mimetype": "text/x-python",
   "name": "python",
   "nbconvert_exporter": "python",
   "pygments_lexer": "ipython3",
   "version": "3.8.2"
  }
 },
 "nbformat": 4,
 "nbformat_minor": 5
}
