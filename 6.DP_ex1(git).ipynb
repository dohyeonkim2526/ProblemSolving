{
 "cells": [
  {
   "cell_type": "markdown",
   "id": "pursuant-diagram",
   "metadata": {},
   "source": [
    "### ex1. 1로 만들기\n",
    "아래 4개의 연산을 적절히 활용하여서 1을 만들때에, 연산을 사용하는 횟수의 최솟값을 출력하시오.\n",
    "* if X%5 = 0, X%5\n",
    "* if X%3 = 0, X%3\n",
    "* if X%2 = 0, X%2\n",
    "* X = X - 1"
   ]
  },
  {
   "cell_type": "code",
   "execution_count": 1,
   "id": "embedded-louisiana",
   "metadata": {},
   "outputs": [
    {
     "name": "stdout",
     "output_type": "stream",
     "text": [
      "26\n"
     ]
    }
   ],
   "source": [
    "x = int(input())"
   ]
  },
  {
   "cell_type": "code",
   "execution_count": 4,
   "id": "alternative-seller",
   "metadata": {},
   "outputs": [
    {
     "name": "stdout",
     "output_type": "stream",
     "text": [
      "3\n"
     ]
    }
   ],
   "source": [
    "dp = [0] * 30001\n",
    "\n",
    "for i in range(2, x+1):\n",
    "    \n",
    "    #우선 1씩 감소하는 것은 모두 가능하다.\n",
    "    dp[i] = dp[i-1] + 1\n",
    "    \n",
    "    if i%2 == 0:\n",
    "        dp[i] = min(dp[i], dp[i//2]+1)\n",
    "        \n",
    "    if i%3 == 0:\n",
    "        dp[i] = min(dp[i], dp[i//3]+1)\n",
    "        \n",
    "    if i%5 == 0:\n",
    "        dp[i] = min(dp[i], dp[i//5]+1)\n",
    "        \n",
    "print(dp[x])   "
   ]
  },
  {
   "cell_type": "code",
   "execution_count": null,
   "id": "formed-inflation",
   "metadata": {},
   "outputs": [],
   "source": []
  }
 ],
 "metadata": {
  "kernelspec": {
   "display_name": "Python 3",
   "language": "python",
   "name": "python3"
  },
  "language_info": {
   "codemirror_mode": {
    "name": "ipython",
    "version": 3
   },
   "file_extension": ".py",
   "mimetype": "text/x-python",
   "name": "python",
   "nbconvert_exporter": "python",
   "pygments_lexer": "ipython3",
   "version": "3.8.2"
  }
 },
 "nbformat": 4,
 "nbformat_minor": 5
}
